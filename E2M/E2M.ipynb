{
 "cells": [
  {
   "cell_type": "markdown",
   "metadata": {},
   "source": [
    "# Event2Mind: Commonsense Inference on Events, Intents, and Reactions"
   ]
  },
  {
   "cell_type": "markdown",
   "metadata": {},
   "source": [
    "## 1. Introduction\n",
    "\n",
    "\n"
   ]
  },
  {
   "cell_type": "markdown",
   "metadata": {},
   "source": [
    "> 본 논문은 짧은 자유형식 이벤트 텍스트에서, 그 이벤트 참가자의 의도 및 반응을 유추하는 네트워크에 대한 연구입니다.\n",
    "\n",
    "![Figure1](./Figure1.png)\n",
    "\n",
    "> 주요 Contribution은 다음과 같습니다.\n",
    "> - 인간의 상식추론에 활용가능한 새로운 \"Corpus Dataset\"\n",
    "> - 이벤트에 직접 언급되지 않은 주변인에 대한 추론\n",
    "> - 의도 및 반응에 대한 __\"텍스트 설명\" 생성__ 모델링"
   ]
  },
  {
   "cell_type": "markdown",
   "metadata": {},
   "source": [
    "## 2. Dataset\n",
    "\n",
    "> 데이터셋을 위해 stories, blogs, and Wiktionary idioms 등에서 이벤트 문구를 수집함"
   ]
  },
  {
   "cell_type": "markdown",
   "metadata": {},
   "source": [
    "> 또한, 본 논문에서는 Variables 개념을 도입\n",
    "> - Person X, Person Y\n",
    "> - Person X eats ____ for dinner\n",
    "> - Frequency가 어느정도 확보되면, \"Person X eats pasta for dinner\" 처럼 그냥 활용\n",
    "> - 그러나 only person mentions 만 바꾸고 나머지는 future research에 맡김\n",
    "\n",
    "![Table1](./Table1.png)"
   ]
  },
  {
   "cell_type": "markdown",
   "metadata": {},
   "source": [
    "### 2.1 Event Extraction\n",
    "\n",
    "![Table2](./Table2.png)\n",
    "\n",
    "> 다음과 같은 corpus를 모두 활용함\n",
    "> - The ROC Story training set (Mostafazadeh et al., 2016)\n",
    "> - The Google Syntactic N-grams (Goldberg and Orwant, 2013)\n",
    "> - The Spinn3r corpus (Gordon and Swanson, 2008)"
   ]
  },
  {
   "cell_type": "markdown",
   "metadata": {},
   "source": [
    "> - 모형의 균형을 위해 Content words의 숫자를 조절함\n",
    "> - 확실히 labelled될 수 있는 수준으로는 남김: 적어도 2개 / 많아도 5개\n",
    "> - \"get up\"과 같은 Phrasal word도 하나의 단어로 인식\n",
    "> - 자주 일어나는 Events만 선별함 (아래의 기준)\n",
    "\n",
    "![Table5](./Table5.png)"
   ]
  },
  {
   "cell_type": "markdown",
   "metadata": {},
   "source": [
    "### 2.2 Croudsourcing\n",
    "\n",
    "> - we periodically removed workers with high disagreement rates, at our discretion\n",
    "\n",
    "![Figure8](./Figure8.png)\n",
    "\n",
    "> __Coreference among Person variables__\n",
    "> - Event에 여러 사람이 등장하는 경우 말이 안되는 예들이 생김\n",
    "> - 예) PersonX punches PersonX’s lights out\n",
    "> - 이런 케이스들(8,406 events)을 제외함.. (from 17,806 events)"
   ]
  },
  {
   "cell_type": "markdown",
   "metadata": {},
   "source": [
    "> 모든 Conference의 경우 3명의 annotator가 할당됨\n",
    "> Overall k=0.4\n",
    "\n",
    "![Cohen](./cohen.png)\n",
    "https://m.blog.naver.com/PostView.nhn?blogId=y4769&logNo=220680837692&proxyReferer=https%3A%2F%2Fwww.google.co.kr%2F"
   ]
  },
  {
   "cell_type": "markdown",
   "metadata": {},
   "source": [
    "## 3. Models\n",
    "\n",
    "![Figure3](./Figure3.png)<br>\n",
    "\n",
    "> - Input은 variables를 활용한 자유형식 텍스트: PersonX gives PersonY ____ as a gift\n",
    "> - 이벤트 E를 워드 임베딩의 시퀀스로 표현: <$e_1$, $e_2$, $...$, $e_n$> $\\in$ $\\mathbb{R}^{n\\times D}$\n",
    "> - 워드 임베딩 시퀀스는 Vector $h_E$로 임베딩됨: $h_E \\in \\mathbb{R}^H$"
   ]
  },
  {
   "cell_type": "markdown",
   "metadata": {},
   "source": [
    "> __Encoding Events__\n",
    "> - Encoding Function: $f$\n",
    "> > - MAX and Mean Pooling\n",
    "> > - ConvNet\n",
    "> > - bi-directional RNN (GRU)\n",
    "> - Decoder set-ups\n",
    "> > - n-gram re-ranking\n",
    "> > - Sequence Genenration using RNN"
   ]
  },
  {
   "cell_type": "code",
   "execution_count": null,
   "metadata": {
    "collapsed": true
   },
   "outputs": [],
   "source": []
  }
 ],
 "metadata": {
  "kernelspec": {
   "display_name": "Python 3",
   "language": "python",
   "name": "python3"
  },
  "language_info": {
   "codemirror_mode": {
    "name": "ipython",
    "version": 3
   },
   "file_extension": ".py",
   "mimetype": "text/x-python",
   "name": "python",
   "nbconvert_exporter": "python",
   "pygments_lexer": "ipython3",
   "version": "3.6.6"
  }
 },
 "nbformat": 4,
 "nbformat_minor": 2
}
