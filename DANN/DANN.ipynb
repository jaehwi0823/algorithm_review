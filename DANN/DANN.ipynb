{
 "cells": [
  {
   "cell_type": "markdown",
   "metadata": {},
   "source": [
    "# Domain Adversarial Training of Neural Network\n",
    "\n",
    "2018.03.18."
   ]
  },
  {
   "cell_type": "markdown",
   "metadata": {},
   "source": [
    "## 1~2. Indroduction & Related Work"
   ]
  },
  {
   "cell_type": "markdown",
   "metadata": {},
   "source": [
    "## 3. Domain Adaptation\n",
    "\n",
    "![Domain_Adaptation.png](./Domain_Adaptation.png)"
   ]
  },
  {
   "cell_type": "markdown",
   "metadata": {},
   "source": [
    "### 3.1 Domain Divergence\n",
    "\n",
    "![Domain_Divergence.png](./Domain_Divergence.png)\n"
   ]
  },
  {
   "cell_type": "markdown",
   "metadata": {},
   "source": [
    "### 3.2 Proxy Distance\n",
    "\n",
    "\n",
    "![Proxy_Distance.png](./Proxy_Distance.png)\n",
    "\n",
    "\n"
   ]
  },
  {
   "cell_type": "markdown",
   "metadata": {},
   "source": [
    "### 3. Generalization Bound on th Target Risk\n",
    "\n",
    "![Generalization_Bound.png](./Generalization_Bound.png)\n",
    "\n",
    "![Occam_razor.png](./Occam_razor.png)\n"
   ]
  },
  {
   "cell_type": "markdown",
   "metadata": {},
   "source": [
    "## 4. DANN\n"
   ]
  },
  {
   "cell_type": "markdown",
   "metadata": {},
   "source": [
    "### 4.1 Example case with Shallow NN\n",
    "\n",
    "![DANN.png](./DANN.png)\n",
    "<br>\n",
    "***\n",
    "<br>\n",
    "![DANN2.png](./DANN2.png)\n",
    "![DANN3.png](./DANN3.png)\n",
    "![DANN4.png](./DANN4.png)\n",
    "<br>\n",
    "***\n",
    "<br>\n",
    "![Algorithm1.png](./Algorithm1.png)"
   ]
  },
  {
   "cell_type": "code",
   "execution_count": null,
   "metadata": {
    "collapsed": true
   },
   "outputs": [],
   "source": []
  }
 ],
 "metadata": {
  "kernelspec": {
   "display_name": "Python 3",
   "language": "python",
   "name": "python3"
  },
  "language_info": {
   "codemirror_mode": {
    "name": "ipython",
    "version": 3
   },
   "file_extension": ".py",
   "mimetype": "text/x-python",
   "name": "python",
   "nbconvert_exporter": "python",
   "pygments_lexer": "ipython3",
   "version": "3.6.3"
  }
 },
 "nbformat": 4,
 "nbformat_minor": 2
}
